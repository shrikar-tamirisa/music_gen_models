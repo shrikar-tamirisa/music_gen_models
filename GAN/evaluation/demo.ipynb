{
 "cells": [
  {
   "cell_type": "markdown",
   "metadata": {
    "deletable": true,
    "editable": true
   },
   "source": [
    "# Usage Demo : \n"
   ]
  },
  {
   "cell_type": "code",
   "execution_count": 36,
   "metadata": {
    "collapsed": false,
    "deletable": true,
    "editable": true
   },
   "outputs": [],
   "source": [
    "import midi\n",
    "import glob\n",
    "import numpy as np\n",
    "import pretty_midi\n",
    "import seaborn as sns\n",
    "import matplotlib.pyplot as plt\n",
    "from mgeval import core, utils\n",
    "from sklearn.model_selection import LeaveOneOut"
   ]
  },
  {
   "cell_type": "markdown",
   "metadata": {
    "deletable": true,
    "editable": true
   },
   "source": [
    "## Absolute measurement: statistic analysis\n"
   ]
  },
  {
   "cell_type": "markdown",
   "metadata": {
    "deletable": true,
    "editable": true
   },
   "source": [
    "Assign dataset path"
   ]
  },
  {
   "cell_type": "code",
   "execution_count": 37,
   "metadata": {
    "collapsed": false,
    "deletable": true,
    "editable": true
   },
   "outputs": [
    {
     "name": "stdout",
     "output_type": "stream",
     "text": [
      "['D:\\\\Music-GAN\\\\Generate_Your_Own_Music-main\\\\gen_dataset\\\\music 0.mid', 'D:\\\\Music-GAN\\\\Generate_Your_Own_Music-main\\\\gen_dataset\\\\music 1.mid', 'D:\\\\Music-GAN\\\\Generate_Your_Own_Music-main\\\\gen_dataset\\\\music 10.mid', 'D:\\\\Music-GAN\\\\Generate_Your_Own_Music-main\\\\gen_dataset\\\\music 11.mid', 'D:\\\\Music-GAN\\\\Generate_Your_Own_Music-main\\\\gen_dataset\\\\music 12.mid', 'D:\\\\Music-GAN\\\\Generate_Your_Own_Music-main\\\\gen_dataset\\\\music 13.mid', 'D:\\\\Music-GAN\\\\Generate_Your_Own_Music-main\\\\gen_dataset\\\\music 14.mid', 'D:\\\\Music-GAN\\\\Generate_Your_Own_Music-main\\\\gen_dataset\\\\music 15.mid', 'D:\\\\Music-GAN\\\\Generate_Your_Own_Music-main\\\\gen_dataset\\\\music 16.mid', 'D:\\\\Music-GAN\\\\Generate_Your_Own_Music-main\\\\gen_dataset\\\\music 17.mid', 'D:\\\\Music-GAN\\\\Generate_Your_Own_Music-main\\\\gen_dataset\\\\music 18.mid', 'D:\\\\Music-GAN\\\\Generate_Your_Own_Music-main\\\\gen_dataset\\\\music 19.mid', 'D:\\\\Music-GAN\\\\Generate_Your_Own_Music-main\\\\gen_dataset\\\\music 2.mid', 'D:\\\\Music-GAN\\\\Generate_Your_Own_Music-main\\\\gen_dataset\\\\music 20.mid', 'D:\\\\Music-GAN\\\\Generate_Your_Own_Music-main\\\\gen_dataset\\\\music 21.mid', 'D:\\\\Music-GAN\\\\Generate_Your_Own_Music-main\\\\gen_dataset\\\\music 22.mid', 'D:\\\\Music-GAN\\\\Generate_Your_Own_Music-main\\\\gen_dataset\\\\music 23.mid', 'D:\\\\Music-GAN\\\\Generate_Your_Own_Music-main\\\\gen_dataset\\\\music 24.mid', 'D:\\\\Music-GAN\\\\Generate_Your_Own_Music-main\\\\gen_dataset\\\\music 25.mid', 'D:\\\\Music-GAN\\\\Generate_Your_Own_Music-main\\\\gen_dataset\\\\music 26.mid', 'D:\\\\Music-GAN\\\\Generate_Your_Own_Music-main\\\\gen_dataset\\\\music 27.mid', 'D:\\\\Music-GAN\\\\Generate_Your_Own_Music-main\\\\gen_dataset\\\\music 28.mid', 'D:\\\\Music-GAN\\\\Generate_Your_Own_Music-main\\\\gen_dataset\\\\music 29.mid', 'D:\\\\Music-GAN\\\\Generate_Your_Own_Music-main\\\\gen_dataset\\\\music 3.mid', 'D:\\\\Music-GAN\\\\Generate_Your_Own_Music-main\\\\gen_dataset\\\\music 30.mid', 'D:\\\\Music-GAN\\\\Generate_Your_Own_Music-main\\\\gen_dataset\\\\music 31.mid', 'D:\\\\Music-GAN\\\\Generate_Your_Own_Music-main\\\\gen_dataset\\\\music 32.mid', 'D:\\\\Music-GAN\\\\Generate_Your_Own_Music-main\\\\gen_dataset\\\\music 33.mid', 'D:\\\\Music-GAN\\\\Generate_Your_Own_Music-main\\\\gen_dataset\\\\music 34.mid', 'D:\\\\Music-GAN\\\\Generate_Your_Own_Music-main\\\\gen_dataset\\\\music 35.mid', 'D:\\\\Music-GAN\\\\Generate_Your_Own_Music-main\\\\gen_dataset\\\\music 36.mid', 'D:\\\\Music-GAN\\\\Generate_Your_Own_Music-main\\\\gen_dataset\\\\music 37.mid', 'D:\\\\Music-GAN\\\\Generate_Your_Own_Music-main\\\\gen_dataset\\\\music 38.mid', 'D:\\\\Music-GAN\\\\Generate_Your_Own_Music-main\\\\gen_dataset\\\\music 39.mid', 'D:\\\\Music-GAN\\\\Generate_Your_Own_Music-main\\\\gen_dataset\\\\music 4.mid', 'D:\\\\Music-GAN\\\\Generate_Your_Own_Music-main\\\\gen_dataset\\\\music 40.mid', 'D:\\\\Music-GAN\\\\Generate_Your_Own_Music-main\\\\gen_dataset\\\\music 41.mid', 'D:\\\\Music-GAN\\\\Generate_Your_Own_Music-main\\\\gen_dataset\\\\music 42.mid', 'D:\\\\Music-GAN\\\\Generate_Your_Own_Music-main\\\\gen_dataset\\\\music 43.mid', 'D:\\\\Music-GAN\\\\Generate_Your_Own_Music-main\\\\gen_dataset\\\\music 44.mid', 'D:\\\\Music-GAN\\\\Generate_Your_Own_Music-main\\\\gen_dataset\\\\music 45.mid', 'D:\\\\Music-GAN\\\\Generate_Your_Own_Music-main\\\\gen_dataset\\\\music 46.mid', 'D:\\\\Music-GAN\\\\Generate_Your_Own_Music-main\\\\gen_dataset\\\\music 47.mid', 'D:\\\\Music-GAN\\\\Generate_Your_Own_Music-main\\\\gen_dataset\\\\music 48.mid', 'D:\\\\Music-GAN\\\\Generate_Your_Own_Music-main\\\\gen_dataset\\\\music 49.mid', 'D:\\\\Music-GAN\\\\Generate_Your_Own_Music-main\\\\gen_dataset\\\\music 5.mid', 'D:\\\\Music-GAN\\\\Generate_Your_Own_Music-main\\\\gen_dataset\\\\music 50.mid', 'D:\\\\Music-GAN\\\\Generate_Your_Own_Music-main\\\\gen_dataset\\\\music 51.mid', 'D:\\\\Music-GAN\\\\Generate_Your_Own_Music-main\\\\gen_dataset\\\\music 52.mid', 'D:\\\\Music-GAN\\\\Generate_Your_Own_Music-main\\\\gen_dataset\\\\music 53.mid', 'D:\\\\Music-GAN\\\\Generate_Your_Own_Music-main\\\\gen_dataset\\\\music 54.mid', 'D:\\\\Music-GAN\\\\Generate_Your_Own_Music-main\\\\gen_dataset\\\\music 55.mid', 'D:\\\\Music-GAN\\\\Generate_Your_Own_Music-main\\\\gen_dataset\\\\music 56.mid', 'D:\\\\Music-GAN\\\\Generate_Your_Own_Music-main\\\\gen_dataset\\\\music 57.mid', 'D:\\\\Music-GAN\\\\Generate_Your_Own_Music-main\\\\gen_dataset\\\\music 58.mid', 'D:\\\\Music-GAN\\\\Generate_Your_Own_Music-main\\\\gen_dataset\\\\music 59.mid', 'D:\\\\Music-GAN\\\\Generate_Your_Own_Music-main\\\\gen_dataset\\\\music 6.mid', 'D:\\\\Music-GAN\\\\Generate_Your_Own_Music-main\\\\gen_dataset\\\\music 60.mid', 'D:\\\\Music-GAN\\\\Generate_Your_Own_Music-main\\\\gen_dataset\\\\music 61.mid', 'D:\\\\Music-GAN\\\\Generate_Your_Own_Music-main\\\\gen_dataset\\\\music 62.mid', 'D:\\\\Music-GAN\\\\Generate_Your_Own_Music-main\\\\gen_dataset\\\\music 63.mid', 'D:\\\\Music-GAN\\\\Generate_Your_Own_Music-main\\\\gen_dataset\\\\music 64.mid', 'D:\\\\Music-GAN\\\\Generate_Your_Own_Music-main\\\\gen_dataset\\\\music 65.mid', 'D:\\\\Music-GAN\\\\Generate_Your_Own_Music-main\\\\gen_dataset\\\\music 66.mid', 'D:\\\\Music-GAN\\\\Generate_Your_Own_Music-main\\\\gen_dataset\\\\music 67.mid', 'D:\\\\Music-GAN\\\\Generate_Your_Own_Music-main\\\\gen_dataset\\\\music 68.mid', 'D:\\\\Music-GAN\\\\Generate_Your_Own_Music-main\\\\gen_dataset\\\\music 69.mid', 'D:\\\\Music-GAN\\\\Generate_Your_Own_Music-main\\\\gen_dataset\\\\music 7.mid', 'D:\\\\Music-GAN\\\\Generate_Your_Own_Music-main\\\\gen_dataset\\\\music 70.mid', 'D:\\\\Music-GAN\\\\Generate_Your_Own_Music-main\\\\gen_dataset\\\\music 71.mid', 'D:\\\\Music-GAN\\\\Generate_Your_Own_Music-main\\\\gen_dataset\\\\music 72.mid', 'D:\\\\Music-GAN\\\\Generate_Your_Own_Music-main\\\\gen_dataset\\\\music 73.mid', 'D:\\\\Music-GAN\\\\Generate_Your_Own_Music-main\\\\gen_dataset\\\\music 74.mid', 'D:\\\\Music-GAN\\\\Generate_Your_Own_Music-main\\\\gen_dataset\\\\music 75.mid', 'D:\\\\Music-GAN\\\\Generate_Your_Own_Music-main\\\\gen_dataset\\\\music 76.mid', 'D:\\\\Music-GAN\\\\Generate_Your_Own_Music-main\\\\gen_dataset\\\\music 77.mid', 'D:\\\\Music-GAN\\\\Generate_Your_Own_Music-main\\\\gen_dataset\\\\music 78.mid', 'D:\\\\Music-GAN\\\\Generate_Your_Own_Music-main\\\\gen_dataset\\\\music 79.mid', 'D:\\\\Music-GAN\\\\Generate_Your_Own_Music-main\\\\gen_dataset\\\\music 8.mid', 'D:\\\\Music-GAN\\\\Generate_Your_Own_Music-main\\\\gen_dataset\\\\music 80.mid', 'D:\\\\Music-GAN\\\\Generate_Your_Own_Music-main\\\\gen_dataset\\\\music 81.mid', 'D:\\\\Music-GAN\\\\Generate_Your_Own_Music-main\\\\gen_dataset\\\\music 82.mid', 'D:\\\\Music-GAN\\\\Generate_Your_Own_Music-main\\\\gen_dataset\\\\music 83.mid', 'D:\\\\Music-GAN\\\\Generate_Your_Own_Music-main\\\\gen_dataset\\\\music 84.mid', 'D:\\\\Music-GAN\\\\Generate_Your_Own_Music-main\\\\gen_dataset\\\\music 85.mid', 'D:\\\\Music-GAN\\\\Generate_Your_Own_Music-main\\\\gen_dataset\\\\music 86.mid', 'D:\\\\Music-GAN\\\\Generate_Your_Own_Music-main\\\\gen_dataset\\\\music 87.mid', 'D:\\\\Music-GAN\\\\Generate_Your_Own_Music-main\\\\gen_dataset\\\\music 88.mid', 'D:\\\\Music-GAN\\\\Generate_Your_Own_Music-main\\\\gen_dataset\\\\music 89.mid', 'D:\\\\Music-GAN\\\\Generate_Your_Own_Music-main\\\\gen_dataset\\\\music 9.mid', 'D:\\\\Music-GAN\\\\Generate_Your_Own_Music-main\\\\gen_dataset\\\\music 90.mid', 'D:\\\\Music-GAN\\\\Generate_Your_Own_Music-main\\\\gen_dataset\\\\music 91.mid', 'D:\\\\Music-GAN\\\\Generate_Your_Own_Music-main\\\\gen_dataset\\\\music 92.mid', 'D:\\\\Music-GAN\\\\Generate_Your_Own_Music-main\\\\gen_dataset\\\\music 93.mid', 'D:\\\\Music-GAN\\\\Generate_Your_Own_Music-main\\\\gen_dataset\\\\music 94.mid', 'D:\\\\Music-GAN\\\\Generate_Your_Own_Music-main\\\\gen_dataset\\\\music 95.mid', 'D:\\\\Music-GAN\\\\Generate_Your_Own_Music-main\\\\gen_dataset\\\\music 96.mid', 'D:\\\\Music-GAN\\\\Generate_Your_Own_Music-main\\\\gen_dataset\\\\music 97.mid', 'D:\\\\Music-GAN\\\\Generate_Your_Own_Music-main\\\\gen_dataset\\\\music 98.mid', 'D:\\\\Music-GAN\\\\Generate_Your_Own_Music-main\\\\gen_dataset\\\\music 99.mid']\n"
     ]
    }
   ],
   "source": [
    "set1 = glob.glob(r'D:\\Music-GAN\\Generate_Your_Own_Music-main\\gen_dataset\\*')\n",
    "print(set1)\n"
   ]
  },
  {
   "cell_type": "markdown",
   "metadata": {
    "deletable": true,
    "editable": true
   },
   "source": [
    "construct empty dictionary to fill in measurement across samples"
   ]
  },
  {
   "cell_type": "code",
   "execution_count": 38,
   "metadata": {
    "collapsed": true,
    "deletable": true,
    "editable": true
   },
   "outputs": [],
   "source": [
    "#num_samples = 100\n",
    "num_samples = 100"
   ]
  },
  {
   "cell_type": "code",
   "execution_count": 39,
   "metadata": {
    "collapsed": false,
    "deletable": true,
    "editable": true
   },
   "outputs": [],
   "source": [
    "set1_eval = {'total_used_pitch':np.zeros((num_samples,1))}\n",
    "metrics_list = list(set1_eval.keys())\n",
    "for i in range(0, num_samples):\n",
    "    feature = core.extract_feature(set1[i])\n",
    "    set1_eval[metrics_list[0]][i] = getattr(core.metrics(), metrics_list[0])(feature)"
   ]
  },
  {
   "cell_type": "markdown",
   "metadata": {
    "deletable": true,
    "editable": true
   },
   "source": [
    "repeat for second dataset"
   ]
  },
  {
   "cell_type": "code",
   "execution_count": 40,
   "metadata": {
    "collapsed": false,
    "deletable": true,
    "editable": true
   },
   "outputs": [],
   "source": [
    "# set2 = glob.glob('../data/set2/*.mid')\n",
    "set2 = glob.glob('D:\\Music-GAN\\Generate_Your_Own_Music-main\\org_dataset\\*')\n",
    "set2_eval = {'total_used_pitch':np.zeros((num_samples,1))}\n",
    "for i in range(0, num_samples):\n",
    "    feature = core.extract_feature(set2[i])\n",
    "    set2_eval[metrics_list[0]][i] = getattr(core.metrics(), metrics_list[0])(feature)"
   ]
  },
  {
   "cell_type": "markdown",
   "metadata": {
    "deletable": true,
    "editable": true
   },
   "source": [
    "statistic analysis: absolute measurement"
   ]
  },
  {
   "cell_type": "code",
   "execution_count": 41,
   "metadata": {
    "collapsed": false,
    "deletable": true,
    "editable": true
   },
   "outputs": [
    {
     "name": "stdout",
     "output_type": "stream",
     "text": [
      "total_used_pitch:\n",
      "------------------------\n",
      "  mean:  [7.97]\n",
      "  std:  [0.17058722]\n",
      "------------------------\n",
      "  mean:  [7.61]\n",
      "  std:  [1.11260955]\n"
     ]
    }
   ],
   "source": [
    "for i in range(0, len(metrics_list)):\n",
    "    print(metrics_list[i] + ':')\n",
    "    print('------------------------')\n",
    "    #print(' demo_set')\n",
    "    print('  mean: ', np.mean(set1_eval[metrics_list[i]], axis=0))\n",
    "    print('  std: ', np.std(set1_eval[metrics_list[i]], axis=0))\n",
    "\n",
    "    print('------------------------')\n",
    "    #print(' demo_set')\n",
    "    print('  mean: ', np.mean(set2_eval[metrics_list[i]], axis=0))\n",
    "    print('  std: ', np.std(set2_eval[metrics_list[i]], axis=0))\n"
   ]
  },
  {
   "cell_type": "markdown",
   "metadata": {
    "deletable": true,
    "editable": true
   },
   "source": [
    "## Relative measurement: generalizes the result among features with various dimensions\n"
   ]
  },
  {
   "cell_type": "markdown",
   "metadata": {
    "deletable": true,
    "editable": true
   },
   "source": [
    "the features are sum- marized to \n",
    "- the intra-set distances\n",
    "- the difference of intra-set and inter-set distances."
   ]
  },
  {
   "cell_type": "markdown",
   "metadata": {
    "deletable": true,
    "editable": true
   },
   "source": [
    "exhaustive cross-validation for intra-set distances measurement"
   ]
  },
  {
   "cell_type": "code",
   "execution_count": 42,
   "metadata": {
    "collapsed": false,
    "deletable": true,
    "editable": true
   },
   "outputs": [],
   "source": [
    "loo = LeaveOneOut()\n",
    "loo.get_n_splits(np.arange(num_samples))\n",
    "set1_intra = np.zeros((num_samples, len(metrics_list), num_samples))\n",
    "set2_intra = np.zeros((num_samples, len(metrics_list), num_samples))\n",
    "for i in range(len(metrics_list)):\n",
    "    for train_index, test_index in loo.split(np.arange(num_samples)):\n",
    "        set1_intra[test_index[0]][i][:-1] = utils.c_dist(set1_eval[metrics_list[i]][test_index], set1_eval[metrics_list[i]][train_index])\n",
    "        set2_intra[test_index[0]][i][:-1] = utils.c_dist(set2_eval[metrics_list[i]][test_index], set2_eval[metrics_list[i]][train_index])\n"
   ]
  },
  {
   "cell_type": "markdown",
   "metadata": {
    "deletable": true,
    "editable": true
   },
   "source": [
    "exhaustive cross-validation for inter-set distances measurement"
   ]
  },
  {
   "cell_type": "code",
   "execution_count": 43,
   "metadata": {
    "collapsed": false,
    "deletable": true,
    "editable": true
   },
   "outputs": [],
   "source": [
    "loo = LeaveOneOut()\n",
    "loo.get_n_splits(np.arange(num_samples))\n",
    "sets_inter = np.zeros((num_samples, len(metrics_list), num_samples))\n",
    "\n",
    "for i in range(len(metrics_list)):\n",
    "    for train_index, test_index in loo.split(np.arange(num_samples)):\n",
    "        sets_inter[test_index[0]][i] = utils.c_dist(set1_eval[metrics_list[i]][test_index], set2_eval[metrics_list[i]])"
   ]
  },
  {
   "cell_type": "markdown",
   "metadata": {
    "deletable": true,
    "editable": true
   },
   "source": [
    "visualization of intra-set and inter-set distances"
   ]
  },
  {
   "cell_type": "code",
   "execution_count": 44,
   "metadata": {
    "collapsed": false,
    "deletable": true,
    "editable": true
   },
   "outputs": [
    {
     "data": {
      "image/png": "[encoded data removed]",
      "text/plain": [
       "<Figure size 432x288 with 1 Axes>"
      ]
     },
     "metadata": {
      "needs_background": "light"
     },
     "output_type": "display_data"
    }
   ],
   "source": [
    "plot_set1_intra = np.transpose(set1_intra,(1, 0, 2)).reshape(len(metrics_list), -1)\n",
    "plot_set2_intra = np.transpose(set2_intra,(1, 0, 2)).reshape(len(metrics_list), -1)\n",
    "plot_sets_inter = np.transpose(sets_inter,(1, 0, 2)).reshape(len(metrics_list), -1)\n",
    "for i in range(0,len(metrics_list)):\n",
    "    sns.kdeplot(plot_set1_intra[i], label='intra_set1')\n",
    "    #sns.kdeplot(plot_sets_inter[i], label='inter')\n",
    "    sns.kdeplot(plot_set2_intra[i], label='intra_set2')\n",
    "    \n",
    "    plt.ylim(0,12)\n",
    "    plt.title(metrics_list[i])\n",
    "    plt.xlabel('Euclidean distance')\n",
    "    plt.legend()\n",
    "    plt.show()"
   ]
  },
  {
   "cell_type": "markdown",
   "metadata": {
    "deletable": true,
    "editable": true
   },
   "source": [
    "the difference of intra-set and inter-set distances."
   ]
  },
  {
   "cell_type": "code",
   "execution_count": 45,
   "metadata": {
    "collapsed": false,
    "deletable": true,
    "editable": true
   },
   "outputs": [
    {
     "name": "stdout",
     "output_type": "stream",
     "text": [
      "total_used_pitch:\n",
      "------------------------\n",
      " demo_set1\n",
      "  Kullback–Leibler divergence: 1.6158152932763559\n",
      "  Overlap area: 0.14976877393940277\n",
      " demo_set2\n",
      "  Kullback–Leibler divergence: 2.6162872481688253\n",
      "  Overlap area: 0.6858530193009366\n"
     ]
    },
    {
     "name": "stderr",
     "output_type": "stream",
     "text": [
      "d:\\Music-GAN\\mgeval-master\\mgeval\\utils.py:18: IntegrationWarning: The maximum number of subdivisions (50) has been achieved.\n",
      "  If increasing the limit yields no improvement it is advised to analyze \n",
      "  the integrand in order to determine the difficulties.  If the position of a \n",
      "  local difficulty can be determined (singularity, discontinuity) one will \n",
      "  probably gain from splitting up the interval and calling the integrator \n",
      "  on the subranges.  Perhaps a special-purpose integrator should be used.\n",
      "  return integrate.quad(lambda x: min(pdf_A(x), pdf_B(x)), np.min((np.min(A), np.min(B))), np.max((np.max(A), np.max(B))))[0]\n"
     ]
    }
   ],
   "source": [
    "for i in range(0, len(metrics_list)):\n",
    "    print(metrics_list[i] + ':')\n",
    "    print('------------------------')\n",
    "    print(' demo_set1')\n",
    "    print('  Kullback–Leibler divergence:',utils.kl_dist(plot_set1_intra[i], plot_sets_inter[i]))\n",
    "    print('  Overlap area:', utils.overlap_area(plot_set1_intra[i], plot_sets_inter[i]))\n",
    "    \n",
    "    print(' demo_set2')\n",
    "    print('  Kullback–Leibler divergence:',utils.kl_dist(plot_set2_intra[i], plot_sets_inter[i]))\n",
    "    print('  Overlap area:', utils.overlap_area(plot_set2_intra[i], plot_sets_inter[i]))\n",
    "    "
   ]
  },
  {
   "cell_type": "code",
   "execution_count": null,
   "metadata": {
    "collapsed": true,
    "deletable": true,
    "editable": true
   },
   "outputs": [],
   "source": []
  }
 ],
 "metadata": {
  "kernelspec": {
   "display_name": "Python 3",
   "language": "python",
   "name": "python3"
  },
  "language_info": {
   "codemirror_mode": {
    "name": "ipython",
    "version": 3
   },
   "file_extension": ".py",
   "mimetype": "text/x-python",
   "name": "python",
   "nbconvert_exporter": "python",
   "pygments_lexer": "ipython3",
   "version": "3.9.1"
  }
 },
 "nbformat": 4,
 "nbformat_minor": 2
}
